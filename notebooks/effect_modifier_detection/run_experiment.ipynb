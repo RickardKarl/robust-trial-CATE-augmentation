{
 "cells": [
  {
   "cell_type": "code",
   "execution_count": 2,
   "metadata": {},
   "outputs": [],
   "source": [
    "import sys\n",
    "import os\n",
    "\n",
    "sys.path.append(\"../..\")\n",
    "\n",
    "if not os.path.exists('power_plot_results'):\n",
    "    os.makedirs('power_plot_results')\n",
    "\n",
    "from tqdm import tqdm\n",
    "from datetime import datetime\n",
    "\n",
    "import pandas as pd\n",
    "import statsmodels.api as sm\n",
    "import numpy as np\n",
    "from sklearn.linear_model import (\n",
    "    LogisticRegressionCV,\n",
    "    LinearRegression,\n",
    ")\n",
    "\n",
    "from src.data.synthetic import SparseModifierSynthetic\n",
    "from src.randomization_aware.learners import (\n",
    "    DRLearner,\n",
    "    QuasiOptimizedLearner,\n",
    ")\n",
    "from src.baselines.asaiee import AsaieeCATE\n"
   ]
  },
  {
   "cell_type": "code",
   "execution_count": 3,
   "metadata": {},
   "outputs": [],
   "source": [
    "def trial_only_test(data, covariates, alpha=0.05, pool_data = False):\n",
    "\n",
    "    if pool_data is False:\n",
    "        data = data[data[\"S\"] == 1]\n",
    "\n",
    "    # Fit linear regression model\n",
    "    X = sm.add_constant(data[[\"A\", \"X0\", \"interaction_term\"] + covariates])  # Add intercept\n",
    "    y = data[\"Y\"]\n",
    "\n",
    "    # Fit OLS regression model\n",
    "    model = sm.OLS(y, X).fit()\n",
    "\n",
    "    # Check if the coefficient for \"interaction_term\" is significantly different from 0\n",
    "    conf_int = model.conf_int(alpha=alpha).loc[\"interaction_term\"]\n",
    "    return conf_int[0] > 0 or conf_int[1] < 0\n",
    "\n",
    "\n",
    "def randomization_aware_test(data, covariates, cate_model):\n",
    "\n",
    "    data = data.copy()\n",
    "\n",
    "    X = data[covariates].values\n",
    "    S = data[\"S\"].values.reshape(-1, 1)\n",
    "    A = data[\"A\"].values.reshape(-1, 1)\n",
    "    Y = data[\"Y\"].values.reshape(-1, 1)\n",
    "    cate_model.fit(X, S, A, Y)\n",
    "\n",
    "    # Combine pseudo-outcomes from all folds\n",
    "    computed_pseudo_outcomes = cate_model.get_computed_pseudo_outcomes()\n",
    "    data[\"pseudo_outcome\"] = computed_pseudo_outcomes[:, 0]\n",
    "    data[\"fold\"] = computed_pseudo_outcomes[:, 1]\n",
    "\n",
    "    # Fit linear regression model for each fold\n",
    "    param_value = []\n",
    "    param_se = []\n",
    "    for fold in data[\"fold\"].unique():\n",
    "        observed_data_S1 = data[(data[\"S\"] == 1) & (data[\"fold\"] == fold)]\n",
    "        obs_X = sm.add_constant(observed_data_S1[[\"X0\"]])  # Add intercept\n",
    "        response = observed_data_S1[\"pseudo_outcome\"]\n",
    "        model = sm.OLS(response, obs_X).fit()\n",
    "        param_value.append(model.params[\"X0\"])\n",
    "        param_se.append(model.bse[\"X0\"])\n",
    "\n",
    "    mean_param = np.mean(param_value)\n",
    "    aggregated_se = np.sqrt(np.sum(np.array(param_se) ** 2) / 4)\n",
    "\n",
    "    lcl = mean_param - 1.96 * aggregated_se\n",
    "    ucl = mean_param + 1.96 * aggregated_se\n",
    "\n",
    "    return lcl > 0 or ucl < 0"
   ]
  },
  {
   "cell_type": "code",
   "execution_count": 4,
   "metadata": {},
   "outputs": [],
   "source": [
    "\n",
    "\n",
    "regressor = LinearRegression\n",
    "\n",
    "\n",
    "methods = {\n",
    "    \"Trial-only covariate adjustment\": lambda data, covariates: trial_only_test(\n",
    "        data, [\"X0\"]\n",
    "    ),\n",
    "    \"Pooled covariate adjustment\": lambda data, covariates: trial_only_test(\n",
    "        data, [\"X0\"], pool_data=True\n",
    "    ),\n",
    "    \"DR-learner\": lambda data, covariates: randomization_aware_test(\n",
    "        data,\n",
    "        covariates,\n",
    "        DRLearner(\n",
    "            propensity_score=1 / 2,\n",
    "            regressor_cate=LinearRegression(),\n",
    "            regressor_treated=regressor(),\n",
    "            regressor_control=regressor(),\n",
    "            crossfit_folds=2,\n",
    "        ),\n",
    "    ),\n",
    "    \"Quasi-optimized\": lambda data, covariates: randomization_aware_test(\n",
    "        data,\n",
    "        covariates,\n",
    "        QuasiOptimizedLearner(\n",
    "            propensity_score=1 / 2,\n",
    "            regressor_cate=LinearRegression(),\n",
    "            regressor_treated=regressor(),\n",
    "            regressor_control=regressor(),\n",
    "            study_classifier=LogisticRegressionCV(max_iter=1000),\n",
    "            crossfit_folds=2,\n",
    "        ),\n",
    "    ),\n",
    "    \"Asaiee\": lambda data, covariates: randomization_aware_test(\n",
    "        data,\n",
    "        covariates,\n",
    "        AsaieeCATE(\n",
    "            propensity_score=1 / 2,\n",
    "            regressor_cate=LinearRegression(),\n",
    "            regressor_treated=regressor(),\n",
    "            regressor_control=regressor(),\n",
    "            crossfit_folds=2,\n",
    "        ),\n",
    "    ),\n",
    "}\n",
    "\n",
    "\n",
    "def run_experiment(n_trials, n_obs, iterations, dgp):\n",
    "    results = []\n",
    "\n",
    "    for n_trial in n_trials:\n",
    "        print(f\"n_trial = {n_trial}\")\n",
    "        for i in tqdm(range(iterations)):\n",
    "            data = dgp.sample(n_trial=n_trial, n_obs=n_obs)\n",
    "            covariates = dgp.get_covar()\n",
    "            data[\"interaction_term\"] = data[\"A\"] * data[\"X0\"]\n",
    "\n",
    "            for method_name, method_func in methods.items():\n",
    "                output = method_func(data, covariates)\n",
    "                results.append(\n",
    "                    {\n",
    "                        \"iteration\": i,\n",
    "                        \"n_trial\": n_trial,\n",
    "                        \"estimator\": method_name,\n",
    "                        \"reject\": output,\n",
    "                    }\n",
    "                )\n",
    "\n",
    "    results_df = pd.DataFrame(results)\n",
    "    return results_df"
   ]
  },
  {
   "cell_type": "code",
   "execution_count": null,
   "metadata": {},
   "outputs": [
    {
     "name": "stdout",
     "output_type": "stream",
     "text": [
      "timestamp: 20250519_104438\n",
      "effect_size = 0.0\n",
      "n_trial = 25\n"
     ]
    },
    {
     "name": "stderr",
     "output_type": "stream",
     "text": [
      "100%|██████████| 5/5 [00:02<00:00,  2.23it/s]\n"
     ]
    },
    {
     "name": "stdout",
     "output_type": "stream",
     "text": [
      "n_trial = 50\n"
     ]
    },
    {
     "name": "stderr",
     "output_type": "stream",
     "text": [
      "100%|██████████| 5/5 [00:02<00:00,  2.09it/s]\n"
     ]
    },
    {
     "name": "stdout",
     "output_type": "stream",
     "text": [
      "n_trial = 75\n"
     ]
    },
    {
     "name": "stderr",
     "output_type": "stream",
     "text": [
      "100%|██████████| 5/5 [00:02<00:00,  2.14it/s]\n"
     ]
    },
    {
     "name": "stdout",
     "output_type": "stream",
     "text": [
      "n_trial = 100\n"
     ]
    },
    {
     "name": "stderr",
     "output_type": "stream",
     "text": [
      "100%|██████████| 5/5 [00:02<00:00,  1.84it/s]\n"
     ]
    },
    {
     "name": "stdout",
     "output_type": "stream",
     "text": [
      "n_trial = 125\n"
     ]
    },
    {
     "name": "stderr",
     "output_type": "stream",
     "text": [
      "100%|██████████| 5/5 [00:01<00:00,  2.51it/s]\n"
     ]
    },
    {
     "name": "stdout",
     "output_type": "stream",
     "text": [
      "n_trial = 160\n"
     ]
    },
    {
     "name": "stderr",
     "output_type": "stream",
     "text": [
      "100%|██████████| 5/5 [00:02<00:00,  2.46it/s]\n"
     ]
    },
    {
     "name": "stdout",
     "output_type": "stream",
     "text": [
      "n_trial = 175\n"
     ]
    },
    {
     "name": "stderr",
     "output_type": "stream",
     "text": [
      "100%|██████████| 5/5 [00:01<00:00,  2.80it/s]\n"
     ]
    },
    {
     "name": "stdout",
     "output_type": "stream",
     "text": [
      "n_trial = 200\n"
     ]
    },
    {
     "name": "stderr",
     "output_type": "stream",
     "text": [
      "100%|██████████| 5/5 [00:01<00:00,  2.54it/s]\n"
     ]
    },
    {
     "name": "stdout",
     "output_type": "stream",
     "text": [
      "effect_size = 0.1\n",
      "n_trial = 25\n"
     ]
    },
    {
     "name": "stderr",
     "output_type": "stream",
     "text": [
      "100%|██████████| 5/5 [00:01<00:00,  3.05it/s]\n"
     ]
    },
    {
     "name": "stdout",
     "output_type": "stream",
     "text": [
      "n_trial = 50\n"
     ]
    },
    {
     "name": "stderr",
     "output_type": "stream",
     "text": [
      "100%|██████████| 5/5 [00:01<00:00,  2.78it/s]\n"
     ]
    },
    {
     "name": "stdout",
     "output_type": "stream",
     "text": [
      "n_trial = 75\n"
     ]
    },
    {
     "name": "stderr",
     "output_type": "stream",
     "text": [
      "100%|██████████| 5/5 [00:01<00:00,  2.71it/s]\n"
     ]
    },
    {
     "name": "stdout",
     "output_type": "stream",
     "text": [
      "n_trial = 100\n"
     ]
    },
    {
     "name": "stderr",
     "output_type": "stream",
     "text": [
      "100%|██████████| 5/5 [00:02<00:00,  2.14it/s]\n"
     ]
    },
    {
     "name": "stdout",
     "output_type": "stream",
     "text": [
      "n_trial = 125\n"
     ]
    },
    {
     "name": "stderr",
     "output_type": "stream",
     "text": [
      "100%|██████████| 5/5 [00:02<00:00,  2.07it/s]\n"
     ]
    },
    {
     "name": "stdout",
     "output_type": "stream",
     "text": [
      "n_trial = 160\n"
     ]
    },
    {
     "name": "stderr",
     "output_type": "stream",
     "text": [
      "100%|██████████| 5/5 [00:02<00:00,  2.04it/s]\n"
     ]
    },
    {
     "name": "stdout",
     "output_type": "stream",
     "text": [
      "n_trial = 175\n"
     ]
    },
    {
     "name": "stderr",
     "output_type": "stream",
     "text": [
      "100%|██████████| 5/5 [00:02<00:00,  1.86it/s]\n"
     ]
    },
    {
     "name": "stdout",
     "output_type": "stream",
     "text": [
      "n_trial = 200\n"
     ]
    },
    {
     "name": "stderr",
     "output_type": "stream",
     "text": [
      "100%|██████████| 5/5 [00:02<00:00,  1.93it/s]\n"
     ]
    },
    {
     "name": "stdout",
     "output_type": "stream",
     "text": [
      "effect_size = 0.25\n",
      "n_trial = 25\n"
     ]
    },
    {
     "name": "stderr",
     "output_type": "stream",
     "text": [
      "100%|██████████| 5/5 [00:02<00:00,  1.96it/s]\n"
     ]
    },
    {
     "name": "stdout",
     "output_type": "stream",
     "text": [
      "n_trial = 50\n"
     ]
    },
    {
     "name": "stderr",
     "output_type": "stream",
     "text": [
      "100%|██████████| 5/5 [00:02<00:00,  2.28it/s]\n"
     ]
    },
    {
     "name": "stdout",
     "output_type": "stream",
     "text": [
      "n_trial = 75\n"
     ]
    },
    {
     "name": "stderr",
     "output_type": "stream",
     "text": [
      "100%|██████████| 5/5 [00:02<00:00,  2.11it/s]\n"
     ]
    },
    {
     "name": "stdout",
     "output_type": "stream",
     "text": [
      "n_trial = 100\n"
     ]
    },
    {
     "name": "stderr",
     "output_type": "stream",
     "text": [
      "100%|██████████| 5/5 [00:02<00:00,  2.26it/s]\n"
     ]
    },
    {
     "name": "stdout",
     "output_type": "stream",
     "text": [
      "n_trial = 125\n"
     ]
    },
    {
     "name": "stderr",
     "output_type": "stream",
     "text": [
      "100%|██████████| 5/5 [00:02<00:00,  2.07it/s]\n"
     ]
    },
    {
     "name": "stdout",
     "output_type": "stream",
     "text": [
      "n_trial = 160\n"
     ]
    },
    {
     "name": "stderr",
     "output_type": "stream",
     "text": [
      "100%|██████████| 5/5 [00:02<00:00,  2.33it/s]\n"
     ]
    },
    {
     "name": "stdout",
     "output_type": "stream",
     "text": [
      "n_trial = 175\n"
     ]
    },
    {
     "name": "stderr",
     "output_type": "stream",
     "text": [
      "100%|██████████| 5/5 [00:02<00:00,  2.45it/s]\n"
     ]
    },
    {
     "name": "stdout",
     "output_type": "stream",
     "text": [
      "n_trial = 200\n"
     ]
    },
    {
     "name": "stderr",
     "output_type": "stream",
     "text": [
      "100%|██████████| 5/5 [00:02<00:00,  2.14it/s]\n"
     ]
    },
    {
     "name": "stdout",
     "output_type": "stream",
     "text": [
      "effect_size = 0.5\n",
      "n_trial = 25\n"
     ]
    },
    {
     "name": "stderr",
     "output_type": "stream",
     "text": [
      "100%|██████████| 5/5 [00:02<00:00,  1.97it/s]\n"
     ]
    },
    {
     "name": "stdout",
     "output_type": "stream",
     "text": [
      "n_trial = 50\n"
     ]
    },
    {
     "name": "stderr",
     "output_type": "stream",
     "text": [
      "100%|██████████| 5/5 [00:02<00:00,  2.17it/s]\n"
     ]
    },
    {
     "name": "stdout",
     "output_type": "stream",
     "text": [
      "n_trial = 75\n"
     ]
    },
    {
     "name": "stderr",
     "output_type": "stream",
     "text": [
      "100%|██████████| 5/5 [00:02<00:00,  2.29it/s]\n"
     ]
    },
    {
     "name": "stdout",
     "output_type": "stream",
     "text": [
      "n_trial = 100\n"
     ]
    },
    {
     "name": "stderr",
     "output_type": "stream",
     "text": [
      "100%|██████████| 5/5 [00:01<00:00,  2.53it/s]\n"
     ]
    },
    {
     "name": "stdout",
     "output_type": "stream",
     "text": [
      "n_trial = 125\n"
     ]
    },
    {
     "name": "stderr",
     "output_type": "stream",
     "text": [
      "100%|██████████| 5/5 [00:01<00:00,  3.04it/s]\n"
     ]
    },
    {
     "name": "stdout",
     "output_type": "stream",
     "text": [
      "n_trial = 160\n"
     ]
    },
    {
     "name": "stderr",
     "output_type": "stream",
     "text": [
      "100%|██████████| 5/5 [00:02<00:00,  2.31it/s]\n"
     ]
    },
    {
     "name": "stdout",
     "output_type": "stream",
     "text": [
      "n_trial = 175\n"
     ]
    },
    {
     "name": "stderr",
     "output_type": "stream",
     "text": [
      "100%|██████████| 5/5 [00:01<00:00,  2.68it/s]\n"
     ]
    },
    {
     "name": "stdout",
     "output_type": "stream",
     "text": [
      "n_trial = 200\n"
     ]
    },
    {
     "name": "stderr",
     "output_type": "stream",
     "text": [
      "100%|██████████| 5/5 [00:02<00:00,  2.41it/s]\n"
     ]
    }
   ],
   "source": [
    "timestamp = datetime.now().strftime(\"%Y%m%d_%H%M%S\")\n",
    "print(f\"timestamp: {timestamp}\")\n",
    "n_trial = [25, 50, 75, 100, 125, 160, 175, 200] \n",
    "n_obs = 1000\n",
    "iterations = 5\n",
    "interaction_effect_size = [0.0, 0.5]\n",
    "\n",
    "dfs = []\n",
    "for effect_size in interaction_effect_size:\n",
    "    print(f'effect_size = {effect_size}')\n",
    "    dgp = SparseModifierSynthetic(\n",
    "        population_shift=0.2, n_features=5, effect_modifiers=[effect_size]\n",
    "    )\n",
    "    results = run_experiment(n_trial, n_obs, iterations, dgp)\n",
    "    results[\"interaction_effect_size\"] = effect_size\n",
    "    dfs.append(results)\n",
    "\n",
    "result_df = pd.concat(dfs)\n",
    "\n",
    "# Save the DataFrame as a CSV file\n",
    "\n",
    "result_df.to_csv(f'power_plot_results/results_{timestamp}.csv', index=False)"
   ]
  }
 ],
 "metadata": {
  "kernelspec": {
   "display_name": "venv",
   "language": "python",
   "name": "python3"
  },
  "language_info": {
   "codemirror_mode": {
    "name": "ipython",
    "version": 3
   },
   "file_extension": ".py",
   "mimetype": "text/x-python",
   "name": "python",
   "nbconvert_exporter": "python",
   "pygments_lexer": "ipython3",
   "version": "3.9.6"
  }
 },
 "nbformat": 4,
 "nbformat_minor": 2
}
